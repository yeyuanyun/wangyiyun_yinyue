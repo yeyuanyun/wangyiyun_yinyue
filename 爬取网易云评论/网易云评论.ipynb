{
 "cells": [
  {
   "cell_type": "code",
   "execution_count": null,
   "id": "f86a06a4-05f2-4c06-b796-1fcb42a92b95",
   "metadata": {},
   "outputs": [],
   "source": [
    "from selenium import webdriver\n",
    "from selenium.webdriver.support.ui import WebDriverWait\n",
    "from selenium.webdriver.chrome.options import Options\n",
    "from selenium.webdriver.common.by import By\n",
    "import csv\n",
    "import time\n",
    "import os\n",
    "import random"
   ]
  },
  {
   "cell_type": "code",
   "execution_count": null,
   "id": "1eb1b70e-4184-4eec-9c3a-e39c760e8669",
   "metadata": {},
   "outputs": [],
   "source": [
    "chrome_options = Options()\n",
    "# 防止被网站识别\n",
    "chrome_options.add_experimental_option('excludeSwitches',['enable-automation'])\n",
    "chrome_options.add_argument(\"--disable-blink-features=AutomationControlled\")\n",
    "chrome_options.add_argument(\"-incognito\")\n",
    "\n",
    "# 增加无头\n",
    "chrome_options.add_argument('--headless')\n",
    "chrome_options.add_argument('--disable-gpu')\n",
    "\n",
    "browser = webdriver.Chrome(options=chrome_options)  \n",
    "\n",
    "wait = WebDriverWait(browser, timeout=10)"
   ]
  },
  {
   "cell_type": "code",
   "execution_count": null,
   "id": "62dd3cf8-a4a4-4224-a1ce-b49eae187882",
   "metadata": {},
   "outputs": [],
   "source": [
    "# music_url = 'https://music.163.com/#/song?id=26092806'\n",
    "music_url = 'https://music.163.com/#/song?id=1454741418'\n",
    "browser.get(music_url)\n",
    "wait.until(lambda d : 'g_iframe' in d.page_source)"
   ]
  },
  {
   "cell_type": "code",
   "execution_count": null,
   "id": "cae9e261-31cf-4e54-8d97-139920f909de",
   "metadata": {
    "tags": []
   },
   "outputs": [],
   "source": [
    "browser.switch_to.frame('g_iframe')\n",
    "wait.until(lambda d: 'f-ff2' in d.page_source)"
   ]
  },
  {
   "cell_type": "code",
   "execution_count": null,
   "id": "96e20510-747d-4532-b42e-cad5a93faf61",
   "metadata": {},
   "outputs": [],
   "source": [
    "current_time = time.localtime()\n",
    "formatted_time = time.strftime(\"%Y-%m-%d %H:%M:%S\", current_time)\n",
    "music_name = browser.find_element(By.XPATH, '//em[@class=\"f-ff2\"]').text\n",
    "folder = './data'\n",
    "filename = folder + '/' + str(music_name) + '--' + str('_'.join(formatted_time.split(':'))) + '.csv'\n",
    "if not os.path.exists(folder):\n",
    "    os.makedirs(folder)\n",
    "with open(filename, 'w', encoding='utf-8', newline='') as w_f:\n",
    "    writer = csv.writer(w_f)\n",
    "    writer.writerow(['username', 'comment', 'comment_time', 'like_counts'])"
   ]
  },
  {
   "cell_type": "code",
   "execution_count": null,
   "id": "c33fd37e-45a4-4f55-bcb5-a0733646bc4c",
   "metadata": {},
   "outputs": [],
   "source": [
    "def save_to_csv(result_list):\n",
    "    with open(filename, 'a', encoding='utf-8', newline='') as w_f:\n",
    "        writer = csv.writer(w_f)\n",
    "        for rowData in result_list:\n",
    "            writer.writerow(rowData)       "
   ]
  },
  {
   "cell_type": "code",
   "execution_count": null,
   "id": "bbb3256e-cc0b-4cdf-8e3f-8b9288ba2142",
   "metadata": {},
   "outputs": [],
   "source": [
    "total_page = int(browser.find_element(By.XPATH, '//a[contains(@class, \"zpgi zpg9\")]').text)\n",
    "if total_page > 300:\n",
    "    total_page = 300"
   ]
  },
  {
   "cell_type": "code",
   "execution_count": null,
   "id": "c243a76d-baa9-4a0d-9a45-cb1279159155",
   "metadata": {},
   "outputs": [],
   "source": [
    "def drop_scroll(browser):\n",
    "    '''将滑条从头滚动到底,以便让浏览器充分加载'''\n",
    "    for x in range(1, 11, 2):\n",
    "        time.sleep(0.2)\n",
    "        j = x/10\n",
    "        js = 'document.documentElement.scrollTop = document.documentElement.scrollHeight * %f' % j\n",
    "        browser.execute_script(js)"
   ]
  },
  {
   "cell_type": "code",
   "execution_count": null,
   "id": "62a0ee8c-04bd-441e-86f0-a32254c010bb",
   "metadata": {
    "tags": []
   },
   "outputs": [],
   "source": [
    "def comment_spider(page):\n",
    "    divs = browser.find_elements(By.XPATH, '//div[@class=\"itm\"]')\n",
    "    comment_list = []\n",
    "    for div in divs:\n",
    "        list = []\n",
    "        username_and_comment = div.find_element(By.XPATH, './/div[@class=\"cnt f-brk\"]').text\n",
    "        username = username_and_comment.split('：',1)[0]\n",
    "        list.append(username)\n",
    "        comment = username_and_comment.split('：',1)[1]\n",
    "        list.append(comment)\n",
    "        comment_time = div.find_element(By.XPATH, './/div[@class=\"time s-fc4\"]').text\n",
    "        list.append(comment_time)\n",
    "        like_counts = div.find_element(By.XPATH, './/a[@data-type=\"like\"]').text\n",
    "        if len(like_counts) == 0:\n",
    "            like_counts = '(0)'\n",
    "        list.append(like_counts)\n",
    "        comment_list.append(list)\n",
    "    save_to_csv(comment_list)\n",
    "    print(f'第{page}页已经爬取完毕')"
   ]
  },
  {
   "cell_type": "code",
   "execution_count": null,
   "id": "d709341b-a6bc-4730-a204-da50777094c8",
   "metadata": {},
   "outputs": [],
   "source": [
    "print(f'预计爬取{total_page}页')\n",
    "current_page = 1\n",
    "drop_scroll(browser)\n",
    "while current_page <= total_page:\n",
    "    wait.until(lambda d: 'itm' in d.page_source)\n",
    "    comment_spider(current_page)\n",
    "    current_page = current_page + 1\n",
    "    \n",
    "    nextpage_button = browser.find_element(By.XPATH, '//a[contains(@class, \"zbtn znxt\")]')\n",
    "    browser.execute_script(\"arguments[0].click();\", nextpage_button)\n",
    "    time.sleep(random.random() * 2)\n",
    "    \n",
    "print('已经全部爬取完毕')"
   ]
  }
 ],
 "metadata": {
  "kernelspec": {
   "display_name": "Python 3 (ipykernel)",
   "language": "python",
   "name": "python3"
  },
  "language_info": {
   "codemirror_mode": {
    "name": "ipython",
    "version": 3
   },
   "file_extension": ".py",
   "mimetype": "text/x-python",
   "name": "python",
   "nbconvert_exporter": "python",
   "pygments_lexer": "ipython3",
   "version": "3.9.7"
  }
 },
 "nbformat": 4,
 "nbformat_minor": 5
}
